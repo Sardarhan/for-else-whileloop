{
 "cells": [
  {
   "cell_type": "markdown",
   "id": "e4846b69",
   "metadata": {},
   "source": [
    "# For Else statement"
   ]
  },
  {
   "cell_type": "code",
   "execution_count": 8,
   "id": "9c6531df",
   "metadata": {},
   "outputs": [],
   "source": [
    "l=[\"name \",\"emailid\",\"phoneno\",\"address\"]"
   ]
  },
  {
   "cell_type": "code",
   "execution_count": null,
   "id": "2cef3067",
   "metadata": {},
   "outputs": [],
   "source": [
    "for i in l:\n",
    "    if i==\"\":\n",
    "        break\n",
    "    print(i)\n",
    "else:\n",
    "    print(\"check this statement\")"
   ]
  },
  {
   "cell_type": "code",
   "execution_count": 7,
   "id": "398f8195",
   "metadata": {},
   "outputs": [
    {
     "name": "stdout",
     "output_type": "stream",
     "text": [
      "dont execute is unless and untill it is not printing my name \n"
     ]
    }
   ],
   "source": [
    "s=\"sardar\"\n",
    "for i in s:\n",
    "    if i==\"n\":\n",
    "        break\n",
    "else:\n",
    "    print(\"dont execute is unless and untill it is not printing my name \")\n",
    "          "
   ]
  },
  {
   "cell_type": "markdown",
   "id": "e711ebca",
   "metadata": {},
   "source": [
    "# While loop"
   ]
  },
  {
   "cell_type": "code",
   "execution_count": 9,
   "id": "2d56172a",
   "metadata": {},
   "outputs": [],
   "source": [
    "#it can used for parsing a dataset"
   ]
  },
  {
   "cell_type": "code",
   "execution_count": 11,
   "id": "3b549bee",
   "metadata": {},
   "outputs": [
    {
     "name": "stdout",
     "output_type": "stream",
     "text": [
      "1\n",
      "2\n",
      "3\n",
      "4\n",
      "5\n"
     ]
    }
   ],
   "source": [
    "a=1\n",
    "while a<6:\n",
    "    print(a)\n",
    "    a=a+1"
   ]
  },
  {
   "cell_type": "code",
   "execution_count": 2,
   "id": "af0288b1",
   "metadata": {},
   "outputs": [
    {
     "name": "stdout",
     "output_type": "stream",
     "text": [
      "1\n",
      "2\n",
      "3\n",
      "4\n",
      "5\n",
      "6\n",
      "7\n"
     ]
    }
   ],
   "source": [
    "a=1\n",
    "while a<8:\n",
    "    print(a)\n",
    "    if a==7:\n",
    "        break\n",
    "    a=a+1"
   ]
  },
  {
   "cell_type": "code",
   "execution_count": null,
   "id": "57f24af3",
   "metadata": {},
   "outputs": [],
   "source": [
    "a=1\n",
    "while a<5:\n",
    "    print(a)\n",
    "    a=a+1\n",
    "    if a==3:\n",
    "        continue\n",
    "        "
   ]
  },
  {
   "cell_type": "code",
   "execution_count": null,
   "id": "81ad0fa7",
   "metadata": {},
   "outputs": [],
   "source": [
    "while a<4:\n",
    "    break"
   ]
  },
  {
   "cell_type": "code",
   "execution_count": null,
   "id": "33438db7",
   "metadata": {},
   "outputs": [],
   "source": [
    "while a<6:\n",
    "    continue"
   ]
  },
  {
   "cell_type": "code",
   "execution_count": 3,
   "id": "efd030b2",
   "metadata": {},
   "outputs": [
    {
     "data": {
      "text/plain": [
       "[0, 1, 2, 3, 4, 5]"
      ]
     },
     "execution_count": 3,
     "metadata": {},
     "output_type": "execute_result"
    }
   ],
   "source": [
    "list(range(6))"
   ]
  },
  {
   "cell_type": "code",
   "execution_count": 5,
   "id": "b99e2e33",
   "metadata": {},
   "outputs": [
    {
     "data": {
      "text/plain": [
       "[0, 1, 2, 3, 4, 5, 6]"
      ]
     },
     "execution_count": 5,
     "metadata": {},
     "output_type": "execute_result"
    }
   ],
   "source": [
    "list(range(0,7))"
   ]
  },
  {
   "cell_type": "code",
   "execution_count": 6,
   "id": "f6dc12cb",
   "metadata": {},
   "outputs": [
    {
     "data": {
      "text/plain": [
       "[4,\n",
       " 5,\n",
       " 6,\n",
       " 7,\n",
       " 8,\n",
       " 9,\n",
       " 10,\n",
       " 11,\n",
       " 12,\n",
       " 13,\n",
       " 14,\n",
       " 15,\n",
       " 16,\n",
       " 17,\n",
       " 18,\n",
       " 19,\n",
       " 20,\n",
       " 21,\n",
       " 22,\n",
       " 23,\n",
       " 24,\n",
       " 25,\n",
       " 26,\n",
       " 27,\n",
       " 28,\n",
       " 29,\n",
       " 30,\n",
       " 31,\n",
       " 32,\n",
       " 33,\n",
       " 34,\n",
       " 35,\n",
       " 36,\n",
       " 37,\n",
       " 38,\n",
       " 39,\n",
       " 40,\n",
       " 41,\n",
       " 42,\n",
       " 43,\n",
       " 44,\n",
       " 45,\n",
       " 46,\n",
       " 47,\n",
       " 48,\n",
       " 49,\n",
       " 50,\n",
       " 51,\n",
       " 52,\n",
       " 53,\n",
       " 54,\n",
       " 55,\n",
       " 56,\n",
       " 57,\n",
       " 58,\n",
       " 59,\n",
       " 60,\n",
       " 61,\n",
       " 62,\n",
       " 63,\n",
       " 64,\n",
       " 65,\n",
       " 66,\n",
       " 67,\n",
       " 68,\n",
       " 69,\n",
       " 70,\n",
       " 71,\n",
       " 72,\n",
       " 73,\n",
       " 74,\n",
       " 75,\n",
       " 76,\n",
       " 77,\n",
       " 78,\n",
       " 79,\n",
       " 80,\n",
       " 81,\n",
       " 82,\n",
       " 83,\n",
       " 84,\n",
       " 85,\n",
       " 86,\n",
       " 87,\n",
       " 88,\n",
       " 89,\n",
       " 90,\n",
       " 91,\n",
       " 92,\n",
       " 93,\n",
       " 94,\n",
       " 95,\n",
       " 96,\n",
       " 97,\n",
       " 98,\n",
       " 99]"
      ]
     },
     "execution_count": 6,
     "metadata": {},
     "output_type": "execute_result"
    }
   ],
   "source": [
    "list(range(4,100))"
   ]
  },
  {
   "cell_type": "code",
   "execution_count": 7,
   "id": "1b66fae9",
   "metadata": {},
   "outputs": [
    {
     "data": {
      "text/plain": [
       "[4,\n",
       " 6,\n",
       " 8,\n",
       " 10,\n",
       " 12,\n",
       " 14,\n",
       " 16,\n",
       " 18,\n",
       " 20,\n",
       " 22,\n",
       " 24,\n",
       " 26,\n",
       " 28,\n",
       " 30,\n",
       " 32,\n",
       " 34,\n",
       " 36,\n",
       " 38,\n",
       " 40,\n",
       " 42,\n",
       " 44,\n",
       " 46,\n",
       " 48]"
      ]
     },
     "execution_count": 7,
     "metadata": {},
     "output_type": "execute_result"
    }
   ],
   "source": [
    "list(range(4,50,2))"
   ]
  },
  {
   "cell_type": "code",
   "execution_count": 8,
   "id": "41bb864f",
   "metadata": {},
   "outputs": [
    {
     "data": {
      "text/plain": [
       "[3, 5, 7, 9, 11, 13, 15, 17, 19]"
      ]
     },
     "execution_count": 8,
     "metadata": {},
     "output_type": "execute_result"
    }
   ],
   "source": [
    "list(range(3,20,2))"
   ]
  },
  {
   "cell_type": "code",
   "execution_count": 9,
   "id": "b76b9457",
   "metadata": {},
   "outputs": [
    {
     "data": {
      "text/plain": [
       "[]"
      ]
     },
     "execution_count": 9,
     "metadata": {},
     "output_type": "execute_result"
    }
   ],
   "source": [
    "list(range(3,10,-1))"
   ]
  },
  {
   "cell_type": "code",
   "execution_count": 12,
   "id": "2536cbc7",
   "metadata": {},
   "outputs": [
    {
     "data": {
      "text/plain": [
       "[-2, -7, -12, -17]"
      ]
     },
     "execution_count": 12,
     "metadata": {},
     "output_type": "execute_result"
    }
   ],
   "source": [
    "list(range(-2,-20,-5))"
   ]
  },
  {
   "cell_type": "code",
   "execution_count": 13,
   "id": "adcbcabf",
   "metadata": {},
   "outputs": [
    {
     "data": {
      "text/plain": [
       "[10, 9, 8, 7]"
      ]
     },
     "execution_count": 13,
     "metadata": {},
     "output_type": "execute_result"
    }
   ],
   "source": [
    "list(range(10,6,-1))"
   ]
  },
  {
   "cell_type": "code",
   "execution_count": 14,
   "id": "37c3dc75",
   "metadata": {},
   "outputs": [
    {
     "data": {
      "text/plain": [
       "[10, 8, 6, 4, 2, 0, -2, -4]"
      ]
     },
     "execution_count": 14,
     "metadata": {},
     "output_type": "execute_result"
    }
   ],
   "source": [
    "list(range(10,-5,-2))"
   ]
  },
  {
   "cell_type": "code",
   "execution_count": 15,
   "id": "3525e7f8",
   "metadata": {},
   "outputs": [
    {
     "name": "stdout",
     "output_type": "stream",
     "text": [
      "0\n",
      "1\n",
      "2\n",
      "3\n",
      "4\n",
      "5\n",
      "6\n"
     ]
    }
   ],
   "source": [
    "for i in range(7):\n",
    "    print(i)"
   ]
  },
  {
   "cell_type": "code",
   "execution_count": 20,
   "id": "2b415f52",
   "metadata": {},
   "outputs": [
    {
     "name": "stdout",
     "output_type": "stream",
     "text": [
      "EAWWWWW\r\n",
      "EAWWWWWEAWWWWW\r\n",
      "EAWWWWWEAWWWWWEAWWWWW\r\n",
      "EAWWWWWEAWWWWWEAWWWWWEAWWWWW\r\n",
      "EAWWWWWEAWWWWWEAWWWWWEAWWWWWEAWWWWW\r\n",
      "EAWWWWWEAWWWWWEAWWWWWEAWWWWWEAWWWWWEAWWWWW\r\n"
     ]
    }
   ],
   "source": [
    "n=6\n",
    "for i in range(0,n):\n",
    "    for j in range(0,i+1):\n",
    "        print(\"EAWWWWW\",end=\"\")\n",
    "    print(\"\\r\")"
   ]
  },
  {
   "cell_type": "code",
   "execution_count": 21,
   "id": "2d3cba10",
   "metadata": {},
   "outputs": [
    {
     "name": "stdout",
     "output_type": "stream",
     "text": [
      "sudh\r\n",
      "sudhsudh\r\n",
      "sudhsudhsudh\r\n",
      "sudhsudhsudhsudh\r\n",
      "sudhsudhsudhsudhsudh\r\n",
      "sudhsudhsudhsudhsudhsudh\r\n"
     ]
    }
   ],
   "source": [
    "n=6\n",
    "for i in range(0,n):\n",
    "    for j in range(0,i+1):\n",
    "        print(\"sudh\",end=\"\")\n",
    "    print(\"\\r\")"
   ]
  },
  {
   "cell_type": "code",
   "execution_count": 30,
   "id": "c54c778c",
   "metadata": {},
   "outputs": [
    {
     "name": "stdout",
     "output_type": "stream",
     "text": [
      "***\n",
      "\n",
      "******\n",
      "\n",
      "*********\n",
      "\n",
      "************\n",
      "\n",
      "***************\n",
      "\n",
      "******************\n",
      "\n"
     ]
    }
   ],
   "source": [
    "n=6\n",
    "for i in range(0,n):\n",
    "    for j in range(0,i+1):\n",
    "        print(\"***\",end=\"\")\n",
    "    print(\"\\n\")"
   ]
  },
  {
   "cell_type": "code",
   "execution_count": 38,
   "id": "930164f6",
   "metadata": {},
   "outputs": [
    {
     "name": "stdout",
     "output_type": "stream",
     "text": [
      "**\r\n",
      "****\r\n",
      "******\r\n",
      "********\r\n",
      "**********\r\n",
      "************\r\n"
     ]
    }
   ],
   "source": [
    "n=6\n",
    "for i in range(0,n):\n",
    "    for j in range(0,i+1):\n",
    "        print(\"**\",end=\"\")\n",
    "    print(\"\\r\")"
   ]
  },
  {
   "cell_type": "code",
   "execution_count": 39,
   "id": "a415e0db",
   "metadata": {},
   "outputs": [
    {
     "name": "stdout",
     "output_type": "stream",
     "text": [
      "**\n",
      "\r\n",
      "**\n",
      "**\n",
      "\r\n",
      "**\n",
      "**\n",
      "**\n",
      "\r\n",
      "**\n",
      "**\n",
      "**\n",
      "**\n",
      "\r\n",
      "**\n",
      "**\n",
      "**\n",
      "**\n",
      "**\n",
      "\r\n",
      "**\n",
      "**\n",
      "**\n",
      "**\n",
      "**\n",
      "**\n",
      "\r\n"
     ]
    }
   ],
   "source": [
    "n=6\n",
    "for i in range(0,n):\n",
    "    for j in range(0,i+1):\n",
    "        print(\"**\",)\n",
    "    print(\"\\r\")"
   ]
  },
  {
   "cell_type": "code",
   "execution_count": 46,
   "id": "a29f0467",
   "metadata": {},
   "outputs": [
    {
     "name": "stdout",
     "output_type": "stream",
     "text": [
      "0\n",
      "1\n",
      "2\n",
      "3\n",
      "4\n",
      "5\n",
      "6\n"
     ]
    }
   ],
   "source": [
    "t=(2,3,4,5,56,7,7)\n",
    "for i in range(len(t)):\n",
    "    print(i)"
   ]
  },
  {
   "cell_type": "code",
   "execution_count": 47,
   "id": "f62fde3a",
   "metadata": {},
   "outputs": [
    {
     "data": {
      "text/plain": [
       "(2, 3, 4, 5, 56, 7, 7)"
      ]
     },
     "execution_count": 47,
     "metadata": {},
     "output_type": "execute_result"
    }
   ],
   "source": [
    "t"
   ]
  },
  {
   "cell_type": "code",
   "execution_count": 48,
   "id": "4be9824e",
   "metadata": {},
   "outputs": [
    {
     "data": {
      "text/plain": [
       "(7, 7, 56, 5, 4, 3, 2)"
      ]
     },
     "execution_count": 48,
     "metadata": {},
     "output_type": "execute_result"
    }
   ],
   "source": [
    "t[::-1]"
   ]
  },
  {
   "cell_type": "code",
   "execution_count": 53,
   "id": "57f87166",
   "metadata": {},
   "outputs": [
    {
     "data": {
      "text/plain": [
       "[7, 6, 5, 4, 3, 2, 1]"
      ]
     },
     "execution_count": 53,
     "metadata": {},
     "output_type": "execute_result"
    }
   ],
   "source": [
    "t=(2,3,4,5,56,7,7)\n",
    "list(range(len(t),0,-1)  )  "
   ]
  },
  {
   "cell_type": "code",
   "execution_count": 54,
   "id": "2db36a9b",
   "metadata": {},
   "outputs": [
    {
     "name": "stdout",
     "output_type": "stream",
     "text": [
      "7\n",
      "7\n",
      "56\n",
      "5\n",
      "4\n",
      "3\n"
     ]
    }
   ],
   "source": [
    "for i in range(len(t)-1,0,-1):\n",
    "    print(t[i])\n",
    "   "
   ]
  },
  {
   "cell_type": "code",
   "execution_count": 55,
   "id": "e045a959",
   "metadata": {},
   "outputs": [
    {
     "data": {
      "text/plain": [
       "(2, 3, 4, 5, 56, 7, 7)"
      ]
     },
     "execution_count": 55,
     "metadata": {},
     "output_type": "execute_result"
    }
   ],
   "source": [
    "t"
   ]
  },
  {
   "cell_type": "code",
   "execution_count": 56,
   "id": "38dfe008",
   "metadata": {},
   "outputs": [
    {
     "name": "stdout",
     "output_type": "stream",
     "text": [
      "7\n",
      "7\n",
      "56\n",
      "5\n",
      "4\n",
      "3\n",
      "2\n"
     ]
    }
   ],
   "source": [
    "for i in range(len(t)-1,-1,-1):\n",
    "    print(t[i])\n",
    "   "
   ]
  },
  {
   "cell_type": "code",
   "execution_count": 62,
   "id": "aeceb44d",
   "metadata": {},
   "outputs": [],
   "source": [
    "d={\"a\":\"sardar\",\"b\":\"khan\",\"c\":[1,2,3,45,6],\"d\":(1,23,45,4),\"e\":\"jhgjgh\"}"
   ]
  },
  {
   "cell_type": "code",
   "execution_count": 65,
   "id": "17730ee4",
   "metadata": {},
   "outputs": [
    {
     "name": "stdout",
     "output_type": "stream",
     "text": [
      "a sardar\n",
      "b khan\n",
      "c [1, 2, 3, 45, 6]\n",
      "d (1, 23, 45, 4)\n",
      "e jhgjgh\n"
     ]
    }
   ],
   "source": [
    "for i in d:\n",
    "    print(i,d[i])"
   ]
  },
  {
   "cell_type": "code",
   "execution_count": 66,
   "id": "4b7a8c43",
   "metadata": {},
   "outputs": [
    {
     "data": {
      "text/plain": [
       "dict_items([('a', 'sardar'), ('b', 'khan'), ('c', [1, 2, 3, 45, 6]), ('d', (1, 23, 45, 4)), ('e', 'jhgjgh')])"
      ]
     },
     "execution_count": 66,
     "metadata": {},
     "output_type": "execute_result"
    }
   ],
   "source": [
    "d.items()"
   ]
  },
  {
   "cell_type": "code",
   "execution_count": 67,
   "id": "bd0fb3ed",
   "metadata": {},
   "outputs": [
    {
     "name": "stdout",
     "output_type": "stream",
     "text": [
      "('a', 'sardar')\n",
      "('b', 'khan')\n",
      "('c', [1, 2, 3, 45, 6])\n",
      "('d', (1, 23, 45, 4))\n",
      "('e', 'jhgjgh')\n"
     ]
    }
   ],
   "source": [
    "for i in d.items():\n",
    "    print(i)"
   ]
  },
  {
   "cell_type": "code",
   "execution_count": 69,
   "id": "6a274f1f",
   "metadata": {},
   "outputs": [],
   "source": [
    "s={2,2,3,3,4,45,5,65,6,7,7,8,8,9,9,6,5,4,33,21,3}"
   ]
  },
  {
   "cell_type": "code",
   "execution_count": 70,
   "id": "ab7a1bbe",
   "metadata": {},
   "outputs": [
    {
     "data": {
      "text/plain": [
       "{2, 3, 4, 5, 6, 7, 8, 9, 21, 33, 45, 65}"
      ]
     },
     "execution_count": 70,
     "metadata": {},
     "output_type": "execute_result"
    }
   ],
   "source": [
    "s"
   ]
  },
  {
   "cell_type": "code",
   "execution_count": 71,
   "id": "dba770d6",
   "metadata": {},
   "outputs": [
    {
     "name": "stdout",
     "output_type": "stream",
     "text": [
      "65\n",
      "2\n",
      "3\n",
      "4\n",
      "5\n",
      "6\n",
      "7\n",
      "8\n",
      "9\n",
      "33\n",
      "45\n",
      "21\n"
     ]
    }
   ],
   "source": [
    "for i in s:\n",
    "    print(i)"
   ]
  },
  {
   "cell_type": "code",
   "execution_count": null,
   "id": "e54c160b",
   "metadata": {},
   "outputs": [],
   "source": []
  }
 ],
 "metadata": {
  "kernelspec": {
   "display_name": "Python 3 (ipykernel)",
   "language": "python",
   "name": "python3"
  },
  "language_info": {
   "codemirror_mode": {
    "name": "ipython",
    "version": 3
   },
   "file_extension": ".py",
   "mimetype": "text/x-python",
   "name": "python",
   "nbconvert_exporter": "python",
   "pygments_lexer": "ipython3",
   "version": "3.9.7"
  }
 },
 "nbformat": 4,
 "nbformat_minor": 5
}
